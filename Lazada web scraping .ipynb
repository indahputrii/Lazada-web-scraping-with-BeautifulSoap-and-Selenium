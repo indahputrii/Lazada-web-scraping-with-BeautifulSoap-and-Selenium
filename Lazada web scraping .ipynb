{
 "cells": [
  {
   "cell_type": "code",
   "execution_count": 1,
   "id": "b6fd977c",
   "metadata": {},
   "outputs": [],
   "source": [
    "import csv\n",
    "from lib2to3.pgen2 import driver\n",
    "from re import template\n",
    "from unittest import result\n",
    "from bs4 import BeautifulSoup\n",
    "from selenium import webdriver\n",
    "from selenium.webdriver.chrome.service import Service"
   ]
  },
  {
   "cell_type": "code",
   "execution_count": 2,
   "id": "ee434a34",
   "metadata": {},
   "outputs": [],
   "source": [
    "# getting ready, connect with webdriver \n",
    "s=Service('C:/Program Files/chromedriver_win32/chromedriver.exe')\n",
    "browser = webdriver.Chrome(service=s)"
   ]
  },
  {
   "cell_type": "markdown",
   "id": "d799f283",
   "metadata": {},
   "source": [
    "## Generate url with search term (base function)"
   ]
  },
  {
   "cell_type": "code",
   "execution_count": 3,
   "id": "ed939053",
   "metadata": {},
   "outputs": [],
   "source": [
    "# get url\n",
    "def get_url(search_term):\n",
    "    \"\"\"Generate a url from search term\"\"\"\n",
    "    template = 'https://www.lazada.co.id/catalog/?q={}&_keyori=ss&from=input&spm=a2o4j.searchlist.search.go.6e9d3155pmM8Hx'\n",
    "    search_term = search_term.replace(' ','+')\n",
    "    return template.format(search_term)"
   ]
  },
  {
   "cell_type": "code",
   "execution_count": 4,
   "id": "71b9f2d0",
   "metadata": {
    "scrolled": true
   },
   "outputs": [
    {
     "name": "stdout",
     "output_type": "stream",
     "text": [
      "https://www.lazada.co.id/catalog/?q=laptop&_keyori=ss&from=input&spm=a2o4j.searchlist.search.go.6e9d3155pmM8Hx\n",
      "40\n"
     ]
    }
   ],
   "source": [
    "# test the function, get_url \n",
    "url = get_url('laptop')\n",
    "print(url)\n",
    "browser.get(url)\n",
    "soup = BeautifulSoup(browser.page_source, 'html.parser')\n",
    "results = soup.find_all('div', {'class' : 'Bm3ON'})\n",
    "print(len(results))"
   ]
  },
  {
   "cell_type": "markdown",
   "id": "bc1fc137",
   "metadata": {},
   "source": [
    "Total items for page 1 are 40"
   ]
  },
  {
   "cell_type": "code",
   "execution_count": 5,
   "id": "416f3524",
   "metadata": {},
   "outputs": [],
   "source": [
    "# extract record \n",
    "def extract_record(item):\n",
    "    \"\"\"get all the record from url generated with get url function\"\"\"\n",
    "    # title\n",
    "    title = item.find('div', {'class' : 'RfADt'}).text\n",
    "    # url \n",
    "    url = item.find('a', {'age' : '0'}).get('href').strip()\n",
    "    # price \n",
    "    price = item.find('span', {'class' : 'ooOxS'}).text\n",
    "    \n",
    "    # review\n",
    "    try:\n",
    "        rev = item.find('span', {'class' : 'qzqFw'}).text\n",
    "    except AttributeError: \n",
    "        rev = ''\n",
    "    \n",
    "    # city \n",
    "    city = item.find('span', {'class' : 'oa6ri'}).text\n",
    "    \n",
    "    result = (title, url, price, rev, city)\n",
    "    return result"
   ]
  },
  {
   "cell_type": "code",
   "execution_count": 6,
   "id": "0e2a2d08",
   "metadata": {},
   "outputs": [],
   "source": [
    "# test the extract_record function, get the information \n",
    "record = []\n",
    "result = soup.find_all('div', {'class' : 'Bm3ON'})\n",
    "for item in result:\n",
    "    record.append(extract_record(item))"
   ]
  },
  {
   "cell_type": "code",
   "execution_count": 7,
   "id": "dff0de12",
   "metadata": {},
   "outputs": [
    {
     "data": {
      "text/plain": [
       "('HP Laptop 14s-dq5000TU Natural silver Laptop Kosumer (66B31PA) /14\"\"/Intel® Core™ i5-1240P/8 GB /Intel® Iris® Xᵉ Graphics/512 GB SSD/W11',\n",
       " '//www.lazada.co.id/products/hp-laptop-14s-dq5000tu-natural-silver-laptop-kosumer-66b31pa-14intel-core-i5-1240p8-gb-intel-iris-x-graphics512-gb-ssdw11-i6606874491.html',\n",
       " 'Rp10.599.000',\n",
       " '',\n",
       " 'Kota Jakarta Utara')"
      ]
     },
     "execution_count": 7,
     "metadata": {},
     "output_type": "execute_result"
    }
   ],
   "source": [
    "record[0]"
   ]
  },
  {
   "cell_type": "markdown",
   "id": "431e2bac",
   "metadata": {},
   "source": [
    "## Generate url for next, next, and next page "
   ]
  },
  {
   "cell_type": "code",
   "execution_count": 8,
   "id": "fa3042af",
   "metadata": {},
   "outputs": [],
   "source": [
    "# create the function to the next page\n",
    "def get_url(search_term, page):\n",
    "    \"\"\"Generate a url from search term\"\"\"\n",
    "    base_temp = 'https://www.lazada.co.id/catalog/?q={}&_keyori=ss&from=input&spm=a2o4j.searchlist.search.go.6e9d3155pmM8Hx'\n",
    "    search_term = search_term.replace(' ','+')\n",
    "    url = base_temp.format(search_term)\n",
    "    \n",
    "    next_page = url + '&page={}'\n",
    "    if page == 1:\n",
    "        return url\n",
    "    else:\n",
    "        url = next_page.format(page)\n",
    "    \n",
    "    return url"
   ]
  },
  {
   "cell_type": "code",
   "execution_count": 9,
   "id": "df557e2d",
   "metadata": {},
   "outputs": [
    {
     "name": "stdout",
     "output_type": "stream",
     "text": [
      "https://www.lazada.co.id/catalog/?q=laptop&_keyori=ss&from=input&spm=a2o4j.searchlist.search.go.6e9d3155pmM8Hx&page=3\n",
      "40\n"
     ]
    }
   ],
   "source": [
    "# test the new get_url function \n",
    "url_l = get_url('laptop', 3)\n",
    "print(url_l)\n",
    "browser.get(url_l)\n",
    "soup = BeautifulSoup(browser.page_source, 'html.parser')\n",
    "results = soup.find_all('div', {'class' : 'Bm3ON'})\n",
    "print(len(results))"
   ]
  },
  {
   "attachments": {
    "image.png": {
     "image/png": "[encoded data removed]"
    }
   },
   "cell_type": "markdown",
   "id": "8fc9e75c",
   "metadata": {},
   "source": [
    "![image.png](attachment:image.png)"
   ]
  },
  {
   "cell_type": "code",
   "execution_count": 10,
   "id": "f7e8e66c",
   "metadata": {},
   "outputs": [],
   "source": [
    "record_laptopu = []\n",
    "result = soup.find_all('div', {'class' : 'Bm3ON'})\n",
    "for item in result:\n",
    "    record_laptopu.append(extract_record(item))"
   ]
  },
  {
   "cell_type": "code",
   "execution_count": 11,
   "id": "6ada6dda",
   "metadata": {},
   "outputs": [
    {
     "data": {
      "text/plain": [
       "('HP 14s-fq1036AU & 14s-fq1037AU Silver&Gold Laptop Konsumer (463C7PA/463C8PA) / 14\" FHD  / AMD Ryzen™ 7 5700U / 8GB / AMD Radeon™ Graphics / 512GBSSD / W10/ GRATIS UPGRADE W11',\n",
       " '//www.lazada.co.id/products/hp-14s-fq1036au-14s-fq1037au-silvergold-laptop-konsumer-463c7pa463c8pa-14-fhd-amd-ryzen-7-5700u-8gb-amd-radeon-graphics-512gbssd-w10-gratis-upgrade-w11-i5584622136.html',\n",
       " 'Rp10.699.000',\n",
       " '(6)',\n",
       " 'Kota Jakarta Utara')"
      ]
     },
     "execution_count": 11,
     "metadata": {},
     "output_type": "execute_result"
    }
   ],
   "source": [
    "record_laptopu[0]"
   ]
  },
  {
   "cell_type": "markdown",
   "id": "7dabc4ed",
   "metadata": {},
   "source": [
    "## WRAP THESE FUNCTIONS LIKE A SANDWICH 🥪"
   ]
  },
  {
   "cell_type": "code",
   "execution_count": 34,
   "id": "6b21a460",
   "metadata": {},
   "outputs": [],
   "source": [
    "import csv\n",
    "from lib2to3.pgen2 import driver\n",
    "from re import template\n",
    "from unittest import result\n",
    "from bs4 import BeautifulSoup\n",
    "from selenium import webdriver\n",
    "from selenium.webdriver.chrome.service import Service\n",
    "\n",
    "def get_url(search_term, page):\n",
    "    \"\"\"Generate a url from search term\"\"\"\n",
    "    base_temp = 'https://www.lazada.co.id/catalog/?q={}&_keyori=ss&from=input&spm=a2o4j.searchlist.search.go.6e9d3155pmM8Hx'\n",
    "    search_term = search_term.replace(' ','+')\n",
    "    url = base_temp.format(search_term)\n",
    "    \n",
    "    next_page = url + '&page={}'\n",
    "    if page == 1:\n",
    "        return url\n",
    "    else:\n",
    "        url = next_page.format(page)\n",
    "    \n",
    "    return url\n",
    "\n",
    "def extract_record(item):\n",
    "    \"\"\"get all the record from url generated with get url function\"\"\"\n",
    "    # title\n",
    "    title = item.find('div', {'class' : 'RfADt'}).text\n",
    "    # url \n",
    "    url = item.find('a', {'age' : '0'}).get('href').strip()\n",
    "    # price \n",
    "    price = item.find('span', {'class' : 'ooOxS'}).text\n",
    "    \n",
    "    # review\n",
    "    try:\n",
    "        rev = item.find('span', {'class' : 'qzqFw'}).text\n",
    "    except AttributeError: \n",
    "        rev = ''\n",
    "    \n",
    "    # city \n",
    "    city = item.find('span', {'class' : 'oa6ri'}).text\n",
    "    \n",
    "    result = (title, url, price, rev, city)\n",
    "    return result\n",
    "\n",
    "\n",
    "def main (search_term, page_i, page_f):\n",
    "    \n",
    "    \"\"\"search term = item name, page_i = page initial, page_f = page final\"\"\"\n",
    "    s = Service('C:/Program Files/chromedriver_win32/chromedriver.exe')\n",
    "    browser = webdriver.Chrome(service=s)\n",
    "    \n",
    "    \n",
    "    record = []\n",
    "    \n",
    "    for page in range(page_i, page_f):\n",
    "        search_url = get_url(search_term, page)\n",
    "        browser.get(search_url)\n",
    "        bs = BeautifulSoup(browser.page_source, 'html.parser')\n",
    "        result = bs.find_all('div', {'class' : 'Bm3ON'})\n",
    "        \n",
    "        \"\"\"get the record\"\"\"\n",
    "        for item in result:\n",
    "            record.append(extract_record(item))\n",
    "            \n",
    "    # shut down and save the csv \n",
    "    \n",
    "    with open('result/{}.csv'.format(search_term), 'w', newline='', encoding= 'utf-8') as f:\n",
    "        writer = csv.writer(f)\n",
    "        writer.writerow(['title', 'url', 'price', 'review', 'city'])\n",
    "        writer.writerows(record)"
   ]
  },
  {
   "cell_type": "code",
   "execution_count": 35,
   "id": "7fc07c30",
   "metadata": {
    "scrolled": true
   },
   "outputs": [],
   "source": [
    "main('laptop', 1, 2)"
   ]
  }
 ],
 "metadata": {
  "kernelspec": {
   "display_name": "Python 3 (ipykernel)",
   "language": "python",
   "name": "python3"
  },
  "language_info": {
   "codemirror_mode": {
    "name": "ipython",
    "version": 3
   },
   "file_extension": ".py",
   "mimetype": "text/x-python",
   "name": "python",
   "nbconvert_exporter": "python",
   "pygments_lexer": "ipython3",
   "version": "3.9.7"
  }
 },
 "nbformat": 4,
 "nbformat_minor": 5
}
